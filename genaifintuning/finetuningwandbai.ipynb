{
  "cells": [
    {
      "cell_type": "markdown",
      "source": [
        "<a href=\"https://colab.research.google.com/github/wandb/edu/blob/main/llm-training-course/colab/finetuning.ipynb\" target=\"_parent\"><img src=\"https://colab.research.google.com/assets/colab-badge.svg\" alt=\"Open In Colab\"/></a>\n",
        "<!--- @wandbcode{llmtraining-colab} -->"
      ],
      "metadata": {
        "id": "cELkt30NaJk_"
      },
      "id": "cELkt30NaJk_"
    },
    {
      "cell_type": "markdown",
      "source": [
        "# Training a 3B Llama on instruction dataset with Weights & Biases, HuggingFace, LoRA and Quantization\n",
        "\n",
        "Tested on Google Colab V100 GPU. Check out [W&B HuggingFace documentation](https://docs.wandb.ai/guides/integrations/huggingface) for more details."
      ],
      "metadata": {
        "id": "7693a36b-5cdc-4582-844b-8dd52fa522c5"
      },
      "id": "7693a36b-5cdc-4582-844b-8dd52fa522c5"
    },
    {
      "cell_type": "code",
      "source": [
        "!conda env list"
      ],
      "outputs": [
        {
          "output_type": "stream",
          "name": "stdout",
          "text": "# conda environments:\r\n#\r\nbase                     /anaconda\r\nazureml_py310_sdkv2      /anaconda/envs/azureml_py310_sdkv2\r\nazureml_py38             /anaconda/envs/azureml_py38\r\nazureml_py38_PT_TF       /anaconda/envs/azureml_py38_PT_TF\r\nfinetune                 /anaconda/envs/finetune\r\njupyter_env              /anaconda/envs/jupyter_env\r\n\r\n"
        }
      ],
      "execution_count": 1,
      "metadata": {
        "jupyter": {
          "source_hidden": false,
          "outputs_hidden": false
        },
        "nteract": {
          "transient": {
            "deleting": false
          }
        }
      },
      "id": "26ca50b6-7904-4d85-a0e7-c6f7e272729c"
    },
    {
      "cell_type": "code",
      "source": [
        "!python --version"
      ],
      "outputs": [
        {
          "output_type": "stream",
          "name": "stdout",
          "text": "Python 3.8.5\r\n"
        }
      ],
      "execution_count": 2,
      "metadata": {
        "jupyter": {
          "source_hidden": false,
          "outputs_hidden": false
        },
        "nteract": {
          "transient": {
            "deleting": false
          }
        }
      },
      "id": "22403ba6-af4a-4321-900b-7326beb37357"
    },
    {
      "cell_type": "code",
      "source": [
        "!python -m pip install -U wandb transformers trl datasets \"protobuf==3.20.3\" evaluate peft bitsandbytes accelerate sentencepiece -qqq"
      ],
      "outputs": [],
      "execution_count": 1,
      "metadata": {
        "id": "03ef319f-bf26-4192-8951-8d536181ab67",
        "tags": []
      },
      "id": "03ef319f-bf26-4192-8951-8d536181ab67"
    },
    {
      "cell_type": "code",
      "source": [
        "pip install -U wandb transformers trl datasets \"protobuf==3.20.3\" evaluate peft bitsandbytes accelerate sentencepiece -qqq"
      ],
      "outputs": [
        {
          "output_type": "stream",
          "name": "stdout",
          "text": "\u001b[31mERROR: azureml-dataset-runtime 1.51.0 has requirement pyarrow<=9.0.0,>=0.17.0, but you'll have pyarrow 15.0.0 which is incompatible.\u001b[0m\n\u001b[31mERROR: azureml-automl-dnn-nlp 1.51.0 has requirement datasets<=2.3.2,>=1.7.0, but you'll have datasets 2.18.0 which is incompatible.\u001b[0m\n\u001b[31mERROR: azureml-automl-dnn-nlp 1.51.0 has requirement transformers[sentencepiece]<=4.16.0, but you'll have transformers 4.38.2 which is incompatible.\u001b[0m\n\u001b[31mERROR: peft 0.9.0 has requirement torch>=1.13.0, but you'll have torch 1.12.0 which is incompatible.\u001b[0m\nNote: you may need to restart the kernel to use updated packages.\n"
        }
      ],
      "execution_count": 6,
      "metadata": {
        "jupyter": {
          "source_hidden": false,
          "outputs_hidden": false
        },
        "nteract": {
          "transient": {
            "deleting": false
          }
        },
        "gather": {
          "logged": 1709643619725
        }
      },
      "id": "30d4dc03-e4c1-4e94-83ca-5d88a4eb07ea"
    },
    {
      "cell_type": "code",
      "source": [
        "%pip install wandb"
      ],
      "outputs": [
        {
          "output_type": "stream",
          "name": "stdout",
          "text": "Requirement already satisfied: wandb in /anaconda/envs/azureml_py38/lib/python3.8/site-packages (0.16.3)\nRequirement already satisfied: setuptools in /anaconda/envs/azureml_py38/lib/python3.8/site-packages (from wandb) (65.6.3)\nRequirement already satisfied: docker-pycreds>=0.4.0 in /anaconda/envs/azureml_py38/lib/python3.8/site-packages (from wandb) (0.4.0)\nRequirement already satisfied: setproctitle in /anaconda/envs/azureml_py38/lib/python3.8/site-packages (from wandb) (1.3.3)\nRequirement already satisfied: GitPython!=3.1.29,>=1.0.0 in /anaconda/envs/azureml_py38/lib/python3.8/site-packages (from wandb) (3.1.31)\nRequirement already satisfied: PyYAML in /anaconda/envs/azureml_py38/lib/python3.8/site-packages (from wandb) (6.0)\nRequirement already satisfied: sentry-sdk>=1.0.0 in /anaconda/envs/azureml_py38/lib/python3.8/site-packages (from wandb) (1.40.6)\nRequirement already satisfied: psutil>=5.0.0 in /anaconda/envs/azureml_py38/lib/python3.8/site-packages (from wandb) (5.9.5)\nRequirement already satisfied: appdirs>=1.4.3 in /anaconda/envs/azureml_py38/lib/python3.8/site-packages (from wandb) (1.4.4)\nRequirement already satisfied: typing-extensions; python_version < \"3.10\" in /anaconda/envs/azureml_py38/lib/python3.8/site-packages (from wandb) (4.6.0)\nRequirement already satisfied: Click!=8.0.0,>=7.1 in /anaconda/envs/azureml_py38/lib/python3.8/site-packages (from wandb) (8.1.3)\nRequirement already satisfied: requests<3,>=2.0.0 in /anaconda/envs/azureml_py38/lib/python3.8/site-packages (from wandb) (2.31.0)\nRequirement already satisfied: protobuf!=4.21.0,<5,>=3.12.0; python_version < \"3.9\" and sys_platform == \"linux\" in /anaconda/envs/azureml_py38/lib/python3.8/site-packages (from wandb) (3.20.3)\nRequirement already satisfied: six>=1.4.0 in /anaconda/envs/azureml_py38/lib/python3.8/site-packages (from docker-pycreds>=0.4.0->wandb) (1.16.0)\nRequirement already satisfied: gitdb<5,>=4.0.1 in /anaconda/envs/azureml_py38/lib/python3.8/site-packages (from GitPython!=3.1.29,>=1.0.0->wandb) (4.0.10)\nRequirement already satisfied: certifi in /anaconda/envs/azureml_py38/lib/python3.8/site-packages (from sentry-sdk>=1.0.0->wandb) (2022.9.24)\nRequirement already satisfied: urllib3>=1.26.11; python_version >= \"3.6\" in /anaconda/envs/azureml_py38/lib/python3.8/site-packages (from sentry-sdk>=1.0.0->wandb) (1.26.16)\nRequirement already satisfied: charset-normalizer<4,>=2 in /anaconda/envs/azureml_py38/lib/python3.8/site-packages (from requests<3,>=2.0.0->wandb) (3.1.0)\nRequirement already satisfied: idna<4,>=2.5 in /anaconda/envs/azureml_py38/lib/python3.8/site-packages (from requests<3,>=2.0.0->wandb) (3.4)\nRequirement already satisfied: smmap<6,>=3.0.1 in /anaconda/envs/azureml_py38/lib/python3.8/site-packages (from gitdb<5,>=4.0.1->GitPython!=3.1.29,>=1.0.0->wandb) (5.0.0)\nNote: you may need to restart the kernel to use updated packages.\n"
        }
      ],
      "execution_count": 7,
      "metadata": {
        "jupyter": {
          "source_hidden": false,
          "outputs_hidden": false
        },
        "nteract": {
          "transient": {
            "deleting": false
          }
        }
      },
      "id": "57a49005-da0f-492f-98b0-0e7fadae83d7"
    },
    {
      "cell_type": "code",
      "source": [
        "%pip install transformers"
      ],
      "outputs": [
        {
          "output_type": "stream",
          "name": "stdout",
          "text": "Requirement already satisfied: transformers in /anaconda/envs/azureml_py38/lib/python3.8/site-packages (4.38.2)\nRequirement already satisfied: requests in /anaconda/envs/azureml_py38/lib/python3.8/site-packages (from transformers) (2.31.0)\nRequirement already satisfied: tokenizers<0.19,>=0.14 in /anaconda/envs/azureml_py38/lib/python3.8/site-packages (from transformers) (0.15.2)\nRequirement already satisfied: regex!=2019.12.17 in /anaconda/envs/azureml_py38/lib/python3.8/site-packages (from transformers) (2023.5.5)\nRequirement already satisfied: huggingface-hub<1.0,>=0.19.3 in /anaconda/envs/azureml_py38/lib/python3.8/site-packages (from transformers) (0.21.3)\nRequirement already satisfied: tqdm>=4.27 in /anaconda/envs/azureml_py38/lib/python3.8/site-packages (from transformers) (4.65.0)\nRequirement already satisfied: safetensors>=0.4.1 in /anaconda/envs/azureml_py38/lib/python3.8/site-packages (from transformers) (0.4.2)\nRequirement already satisfied: pyyaml>=5.1 in /anaconda/envs/azureml_py38/lib/python3.8/site-packages (from transformers) (6.0)\nRequirement already satisfied: numpy>=1.17 in /anaconda/envs/azureml_py38/lib/python3.8/site-packages (from transformers) (1.21.6)\nRequirement already satisfied: packaging>=20.0 in /anaconda/envs/azureml_py38/lib/python3.8/site-packages (from transformers) (23.0)\nRequirement already satisfied: filelock in /anaconda/envs/azureml_py38/lib/python3.8/site-packages (from transformers) (3.12.0)\nRequirement already satisfied: idna<4,>=2.5 in /anaconda/envs/azureml_py38/lib/python3.8/site-packages (from requests->transformers) (3.4)\nRequirement already satisfied: certifi>=2017.4.17 in /anaconda/envs/azureml_py38/lib/python3.8/site-packages (from requests->transformers) (2022.9.24)\nRequirement already satisfied: urllib3<3,>=1.21.1 in /anaconda/envs/azureml_py38/lib/python3.8/site-packages (from requests->transformers) (1.26.16)\nRequirement already satisfied: charset-normalizer<4,>=2 in /anaconda/envs/azureml_py38/lib/python3.8/site-packages (from requests->transformers) (3.1.0)\nRequirement already satisfied: typing-extensions>=3.7.4.3 in /anaconda/envs/azureml_py38/lib/python3.8/site-packages (from huggingface-hub<1.0,>=0.19.3->transformers) (4.6.0)\nRequirement already satisfied: fsspec>=2023.5.0 in /anaconda/envs/azureml_py38/lib/python3.8/site-packages (from huggingface-hub<1.0,>=0.19.3->transformers) (2023.5.0)\nNote: you may need to restart the kernel to use updated packages.\n"
        }
      ],
      "execution_count": 8,
      "metadata": {
        "jupyter": {
          "source_hidden": false,
          "outputs_hidden": false
        },
        "nteract": {
          "transient": {
            "deleting": false
          }
        }
      },
      "id": "ba097a30-97ca-4a1b-b8df-c8dd561a2599"
    },
    {
      "cell_type": "code",
      "source": [
        "%pip install trl"
      ],
      "outputs": [
        {
          "output_type": "stream",
          "name": "stdout",
          "text": "Requirement already satisfied: trl in /anaconda/envs/azureml_py38/lib/python3.8/site-packages (0.7.11)\nRequirement already satisfied: datasets in /anaconda/envs/azureml_py38/lib/python3.8/site-packages (from trl) (2.18.0)\nRequirement already satisfied: numpy>=1.18.2 in /anaconda/envs/azureml_py38/lib/python3.8/site-packages (from trl) (1.21.6)\nRequirement already satisfied: accelerate in /anaconda/envs/azureml_py38/lib/python3.8/site-packages (from trl) (0.27.2)\nRequirement already satisfied: tyro>=0.5.11 in /anaconda/envs/azureml_py38/lib/python3.8/site-packages (from trl) (0.7.3)\nRequirement already satisfied: torch>=1.4.0 in /anaconda/envs/azureml_py38/lib/python3.8/site-packages (from trl) (1.12.0)\nRequirement already satisfied: transformers>=4.31.0 in /anaconda/envs/azureml_py38/lib/python3.8/site-packages (from trl) (4.38.2)\nRequirement already satisfied: filelock in /anaconda/envs/azureml_py38/lib/python3.8/site-packages (from datasets->trl) (3.12.0)\nRequirement already satisfied: aiohttp in /anaconda/envs/azureml_py38/lib/python3.8/site-packages (from datasets->trl) (3.8.4)\nRequirement already satisfied: pandas in /anaconda/envs/azureml_py38/lib/python3.8/site-packages (from datasets->trl) (1.1.5)\nRequirement already satisfied: multiprocess in /anaconda/envs/azureml_py38/lib/python3.8/site-packages (from datasets->trl) (0.70.14)\nRequirement already satisfied: xxhash in /anaconda/envs/azureml_py38/lib/python3.8/site-packages (from datasets->trl) (3.2.0)\nRequirement already satisfied: huggingface-hub>=0.19.4 in /anaconda/envs/azureml_py38/lib/python3.8/site-packages (from datasets->trl) (0.21.3)\nRequirement already satisfied: packaging in /anaconda/envs/azureml_py38/lib/python3.8/site-packages (from datasets->trl) (23.0)\nRequirement already satisfied: tqdm>=4.62.1 in /anaconda/envs/azureml_py38/lib/python3.8/site-packages (from datasets->trl) (4.65.0)\nRequirement already satisfied: pyyaml>=5.1 in /anaconda/envs/azureml_py38/lib/python3.8/site-packages (from datasets->trl) (6.0)\nRequirement already satisfied: requests>=2.19.0 in /anaconda/envs/azureml_py38/lib/python3.8/site-packages (from datasets->trl) (2.31.0)\nRequirement already satisfied: dill<0.3.9,>=0.3.0 in /anaconda/envs/azureml_py38/lib/python3.8/site-packages (from datasets->trl) (0.3.6)\nRequirement already satisfied: pyarrow-hotfix in /anaconda/envs/azureml_py38/lib/python3.8/site-packages (from datasets->trl) (0.6)\nRequirement already satisfied: pyarrow>=12.0.0 in /anaconda/envs/azureml_py38/lib/python3.8/site-packages (from datasets->trl) (15.0.0)\nRequirement already satisfied: fsspec[http]<=2024.2.0,>=2023.1.0 in /anaconda/envs/azureml_py38/lib/python3.8/site-packages (from datasets->trl) (2023.5.0)\nRequirement already satisfied: safetensors>=0.3.1 in /anaconda/envs/azureml_py38/lib/python3.8/site-packages (from accelerate->trl) (0.4.2)\nRequirement already satisfied: psutil in /anaconda/envs/azureml_py38/lib/python3.8/site-packages (from accelerate->trl) (5.9.5)\nRequirement already satisfied: shtab>=1.5.6 in /anaconda/envs/azureml_py38/lib/python3.8/site-packages (from tyro>=0.5.11->trl) (1.7.0)\nRequirement already satisfied: typing-extensions>=4.3.0 in /anaconda/envs/azureml_py38/lib/python3.8/site-packages (from tyro>=0.5.11->trl) (4.6.0)\nRequirement already satisfied: rich>=11.1.0 in /anaconda/envs/azureml_py38/lib/python3.8/site-packages (from tyro>=0.5.11->trl) (13.4.2)\nRequirement already satisfied: docstring-parser>=0.14.1 in /anaconda/envs/azureml_py38/lib/python3.8/site-packages (from tyro>=0.5.11->trl) (0.15)\nRequirement already satisfied: regex!=2019.12.17 in /anaconda/envs/azureml_py38/lib/python3.8/site-packages (from transformers>=4.31.0->trl) (2023.5.5)\nRequirement already satisfied: tokenizers<0.19,>=0.14 in /anaconda/envs/azureml_py38/lib/python3.8/site-packages (from transformers>=4.31.0->trl) (0.15.2)\nRequirement already satisfied: frozenlist>=1.1.1 in /anaconda/envs/azureml_py38/lib/python3.8/site-packages (from aiohttp->datasets->trl) (1.3.3)\nRequirement already satisfied: attrs>=17.3.0 in /anaconda/envs/azureml_py38/lib/python3.8/site-packages (from aiohttp->datasets->trl) (23.1.0)\nRequirement already satisfied: yarl<2.0,>=1.0 in /anaconda/envs/azureml_py38/lib/python3.8/site-packages (from aiohttp->datasets->trl) (1.9.2)\nRequirement already satisfied: aiosignal>=1.1.2 in /anaconda/envs/azureml_py38/lib/python3.8/site-packages (from aiohttp->datasets->trl) (1.3.1)\nRequirement already satisfied: charset-normalizer<4.0,>=2.0 in /anaconda/envs/azureml_py38/lib/python3.8/site-packages (from aiohttp->datasets->trl) (3.1.0)\nRequirement already satisfied: multidict<7.0,>=4.5 in /anaconda/envs/azureml_py38/lib/python3.8/site-packages (from aiohttp->datasets->trl) (6.0.4)\nRequirement already satisfied: async-timeout<5.0,>=4.0.0a3 in /anaconda/envs/azureml_py38/lib/python3.8/site-packages (from aiohttp->datasets->trl) (4.0.2)\nRequirement already satisfied: pytz>=2017.2 in /anaconda/envs/azureml_py38/lib/python3.8/site-packages (from pandas->datasets->trl) (2022.5)\nRequirement already satisfied: python-dateutil>=2.7.3 in /anaconda/envs/azureml_py38/lib/python3.8/site-packages (from pandas->datasets->trl) (2.8.2)\nRequirement already satisfied: idna<4,>=2.5 in /anaconda/envs/azureml_py38/lib/python3.8/site-packages (from requests>=2.19.0->datasets->trl) (3.4)\nRequirement already satisfied: urllib3<3,>=1.21.1 in /anaconda/envs/azureml_py38/lib/python3.8/site-packages (from requests>=2.19.0->datasets->trl) (1.26.16)\nRequirement already satisfied: certifi>=2017.4.17 in /anaconda/envs/azureml_py38/lib/python3.8/site-packages (from requests>=2.19.0->datasets->trl) (2022.9.24)\nRequirement already satisfied: markdown-it-py>=2.2.0 in /anaconda/envs/azureml_py38/lib/python3.8/site-packages (from rich>=11.1.0->tyro>=0.5.11->trl) (2.2.0)\nRequirement already satisfied: pygments<3.0.0,>=2.13.0 in /anaconda/envs/azureml_py38/lib/python3.8/site-packages (from rich>=11.1.0->tyro>=0.5.11->trl) (2.15.1)\nRequirement already satisfied: six>=1.5 in /anaconda/envs/azureml_py38/lib/python3.8/site-packages (from python-dateutil>=2.7.3->pandas->datasets->trl) (1.16.0)\nRequirement already satisfied: mdurl~=0.1 in /anaconda/envs/azureml_py38/lib/python3.8/site-packages (from markdown-it-py>=2.2.0->rich>=11.1.0->tyro>=0.5.11->trl) (0.1.2)\nNote: you may need to restart the kernel to use updated packages.\n"
        }
      ],
      "execution_count": 9,
      "metadata": {
        "jupyter": {
          "source_hidden": false,
          "outputs_hidden": false
        },
        "nteract": {
          "transient": {
            "deleting": false
          }
        }
      },
      "id": "70287f33-026c-4a1a-aa92-3b2eece4ff44"
    },
    {
      "cell_type": "code",
      "source": [
        "%pip install datasets"
      ],
      "outputs": [
        {
          "output_type": "stream",
          "name": "stdout",
          "text": "Requirement already satisfied: datasets in /anaconda/envs/azureml_py38/lib/python3.8/site-packages (2.18.0)\nRequirement already satisfied: numpy>=1.17 in /anaconda/envs/azureml_py38/lib/python3.8/site-packages (from datasets) (1.21.6)\nRequirement already satisfied: huggingface-hub>=0.19.4 in /anaconda/envs/azureml_py38/lib/python3.8/site-packages (from datasets) (0.21.3)\nRequirement already satisfied: packaging in /anaconda/envs/azureml_py38/lib/python3.8/site-packages (from datasets) (23.0)\nRequirement already satisfied: pyarrow-hotfix in /anaconda/envs/azureml_py38/lib/python3.8/site-packages (from datasets) (0.6)\nRequirement already satisfied: requests>=2.19.0 in /anaconda/envs/azureml_py38/lib/python3.8/site-packages (from datasets) (2.31.0)\nRequirement already satisfied: aiohttp in /anaconda/envs/azureml_py38/lib/python3.8/site-packages (from datasets) (3.8.4)\nRequirement already satisfied: fsspec[http]<=2024.2.0,>=2023.1.0 in /anaconda/envs/azureml_py38/lib/python3.8/site-packages (from datasets) (2023.5.0)\nRequirement already satisfied: tqdm>=4.62.1 in /anaconda/envs/azureml_py38/lib/python3.8/site-packages (from datasets) (4.65.0)\nRequirement already satisfied: pyyaml>=5.1 in /anaconda/envs/azureml_py38/lib/python3.8/site-packages (from datasets) (6.0)\nRequirement already satisfied: dill<0.3.9,>=0.3.0 in /anaconda/envs/azureml_py38/lib/python3.8/site-packages (from datasets) (0.3.6)\nRequirement already satisfied: multiprocess in /anaconda/envs/azureml_py38/lib/python3.8/site-packages (from datasets) (0.70.14)\nRequirement already satisfied: xxhash in /anaconda/envs/azureml_py38/lib/python3.8/site-packages (from datasets) (3.2.0)\nRequirement already satisfied: pandas in /anaconda/envs/azureml_py38/lib/python3.8/site-packages (from datasets) (1.1.5)\nRequirement already satisfied: filelock in /anaconda/envs/azureml_py38/lib/python3.8/site-packages (from datasets) (3.12.0)\nRequirement already satisfied: pyarrow>=12.0.0 in /anaconda/envs/azureml_py38/lib/python3.8/site-packages (from datasets) (15.0.0)\nRequirement already satisfied: typing-extensions>=3.7.4.3 in /anaconda/envs/azureml_py38/lib/python3.8/site-packages (from huggingface-hub>=0.19.4->datasets) (4.6.0)\nRequirement already satisfied: certifi>=2017.4.17 in /anaconda/envs/azureml_py38/lib/python3.8/site-packages (from requests>=2.19.0->datasets) (2022.9.24)\nRequirement already satisfied: charset-normalizer<4,>=2 in /anaconda/envs/azureml_py38/lib/python3.8/site-packages (from requests>=2.19.0->datasets) (3.1.0)\nRequirement already satisfied: urllib3<3,>=1.21.1 in /anaconda/envs/azureml_py38/lib/python3.8/site-packages (from requests>=2.19.0->datasets) (1.26.16)\nRequirement already satisfied: idna<4,>=2.5 in /anaconda/envs/azureml_py38/lib/python3.8/site-packages (from requests>=2.19.0->datasets) (3.4)\nRequirement already satisfied: aiosignal>=1.1.2 in /anaconda/envs/azureml_py38/lib/python3.8/site-packages (from aiohttp->datasets) (1.3.1)\nRequirement already satisfied: frozenlist>=1.1.1 in /anaconda/envs/azureml_py38/lib/python3.8/site-packages (from aiohttp->datasets) (1.3.3)\nRequirement already satisfied: yarl<2.0,>=1.0 in /anaconda/envs/azureml_py38/lib/python3.8/site-packages (from aiohttp->datasets) (1.9.2)\nRequirement already satisfied: multidict<7.0,>=4.5 in /anaconda/envs/azureml_py38/lib/python3.8/site-packages (from aiohttp->datasets) (6.0.4)\nRequirement already satisfied: attrs>=17.3.0 in /anaconda/envs/azureml_py38/lib/python3.8/site-packages (from aiohttp->datasets) (23.1.0)\nRequirement already satisfied: async-timeout<5.0,>=4.0.0a3 in /anaconda/envs/azureml_py38/lib/python3.8/site-packages (from aiohttp->datasets) (4.0.2)\nRequirement already satisfied: pytz>=2017.2 in /anaconda/envs/azureml_py38/lib/python3.8/site-packages (from pandas->datasets) (2022.5)\nRequirement already satisfied: python-dateutil>=2.7.3 in /anaconda/envs/azureml_py38/lib/python3.8/site-packages (from pandas->datasets) (2.8.2)\nRequirement already satisfied: six>=1.5 in /anaconda/envs/azureml_py38/lib/python3.8/site-packages (from python-dateutil>=2.7.3->pandas->datasets) (1.16.0)\nNote: you may need to restart the kernel to use updated packages.\n"
        }
      ],
      "execution_count": 10,
      "metadata": {
        "jupyter": {
          "source_hidden": false,
          "outputs_hidden": false
        },
        "nteract": {
          "transient": {
            "deleting": false
          }
        }
      },
      "id": "7c06cd47-d6d1-4a8f-b6af-fd22ff85f13b"
    },
    {
      "cell_type": "code",
      "source": [
        "%pip install protobuf"
      ],
      "outputs": [
        {
          "output_type": "stream",
          "name": "stdout",
          "text": "Requirement already satisfied: protobuf in /anaconda/envs/azureml_py38/lib/python3.8/site-packages (3.20.3)\nNote: you may need to restart the kernel to use updated packages.\n"
        }
      ],
      "execution_count": 11,
      "metadata": {
        "jupyter": {
          "source_hidden": false,
          "outputs_hidden": false
        },
        "nteract": {
          "transient": {
            "deleting": false
          }
        }
      },
      "id": "0b86fcfd-5799-42c9-8ea1-6de26e49ffbb"
    },
    {
      "cell_type": "code",
      "source": [
        "%pip install evaluate"
      ],
      "outputs": [
        {
          "output_type": "stream",
          "name": "stdout",
          "text": "Requirement already satisfied: evaluate in /anaconda/envs/azureml_py38/lib/python3.8/site-packages (0.4.1)\nRequirement already satisfied: huggingface-hub>=0.7.0 in /anaconda/envs/azureml_py38/lib/python3.8/site-packages (from evaluate) (0.21.3)\nRequirement already satisfied: pandas in /anaconda/envs/azureml_py38/lib/python3.8/site-packages (from evaluate) (1.1.5)\nRequirement already satisfied: tqdm>=4.62.1 in /anaconda/envs/azureml_py38/lib/python3.8/site-packages (from evaluate) (4.65.0)\nRequirement already satisfied: datasets>=2.0.0 in /anaconda/envs/azureml_py38/lib/python3.8/site-packages (from evaluate) (2.18.0)\nRequirement already satisfied: dill in /anaconda/envs/azureml_py38/lib/python3.8/site-packages (from evaluate) (0.3.6)\nRequirement already satisfied: xxhash in /anaconda/envs/azureml_py38/lib/python3.8/site-packages (from evaluate) (3.2.0)\nRequirement already satisfied: multiprocess in /anaconda/envs/azureml_py38/lib/python3.8/site-packages (from evaluate) (0.70.14)\nRequirement already satisfied: requests>=2.19.0 in /anaconda/envs/azureml_py38/lib/python3.8/site-packages (from evaluate) (2.31.0)\nRequirement already satisfied: numpy>=1.17 in /anaconda/envs/azureml_py38/lib/python3.8/site-packages (from evaluate) (1.21.6)\nRequirement already satisfied: responses<0.19 in /anaconda/envs/azureml_py38/lib/python3.8/site-packages (from evaluate) (0.18.0)\nRequirement already satisfied: fsspec[http]>=2021.05.0 in /anaconda/envs/azureml_py38/lib/python3.8/site-packages (from evaluate) (2023.5.0)\nRequirement already satisfied: packaging in /anaconda/envs/azureml_py38/lib/python3.8/site-packages (from evaluate) (23.0)\nRequirement already satisfied: pyyaml>=5.1 in /anaconda/envs/azureml_py38/lib/python3.8/site-packages (from huggingface-hub>=0.7.0->evaluate) (6.0)\nRequirement already satisfied: filelock in /anaconda/envs/azureml_py38/lib/python3.8/site-packages (from huggingface-hub>=0.7.0->evaluate) (3.12.0)\nRequirement already satisfied: typing-extensions>=3.7.4.3 in /anaconda/envs/azureml_py38/lib/python3.8/site-packages (from huggingface-hub>=0.7.0->evaluate) (4.6.0)\nRequirement already satisfied: python-dateutil>=2.7.3 in /anaconda/envs/azureml_py38/lib/python3.8/site-packages (from pandas->evaluate) (2.8.2)\nRequirement already satisfied: pytz>=2017.2 in /anaconda/envs/azureml_py38/lib/python3.8/site-packages (from pandas->evaluate) (2022.5)\nRequirement already satisfied: pyarrow>=12.0.0 in /anaconda/envs/azureml_py38/lib/python3.8/site-packages (from datasets>=2.0.0->evaluate) (15.0.0)\nRequirement already satisfied: pyarrow-hotfix in /anaconda/envs/azureml_py38/lib/python3.8/site-packages (from datasets>=2.0.0->evaluate) (0.6)\nRequirement already satisfied: aiohttp in /anaconda/envs/azureml_py38/lib/python3.8/site-packages (from datasets>=2.0.0->evaluate) (3.8.4)\nRequirement already satisfied: idna<4,>=2.5 in /anaconda/envs/azureml_py38/lib/python3.8/site-packages (from requests>=2.19.0->evaluate) (3.4)\nRequirement already satisfied: urllib3<3,>=1.21.1 in /anaconda/envs/azureml_py38/lib/python3.8/site-packages (from requests>=2.19.0->evaluate) (1.26.16)\nRequirement already satisfied: charset-normalizer<4,>=2 in /anaconda/envs/azureml_py38/lib/python3.8/site-packages (from requests>=2.19.0->evaluate) (3.1.0)\nRequirement already satisfied: certifi>=2017.4.17 in /anaconda/envs/azureml_py38/lib/python3.8/site-packages (from requests>=2.19.0->evaluate) (2022.9.24)\nRequirement already satisfied: six>=1.5 in /anaconda/envs/azureml_py38/lib/python3.8/site-packages (from python-dateutil>=2.7.3->pandas->evaluate) (1.16.0)\nRequirement already satisfied: frozenlist>=1.1.1 in /anaconda/envs/azureml_py38/lib/python3.8/site-packages (from aiohttp->datasets>=2.0.0->evaluate) (1.3.3)\nRequirement already satisfied: attrs>=17.3.0 in /anaconda/envs/azureml_py38/lib/python3.8/site-packages (from aiohttp->datasets>=2.0.0->evaluate) (23.1.0)\nRequirement already satisfied: aiosignal>=1.1.2 in /anaconda/envs/azureml_py38/lib/python3.8/site-packages (from aiohttp->datasets>=2.0.0->evaluate) (1.3.1)\nRequirement already satisfied: async-timeout<5.0,>=4.0.0a3 in /anaconda/envs/azureml_py38/lib/python3.8/site-packages (from aiohttp->datasets>=2.0.0->evaluate) (4.0.2)\nRequirement already satisfied: multidict<7.0,>=4.5 in /anaconda/envs/azureml_py38/lib/python3.8/site-packages (from aiohttp->datasets>=2.0.0->evaluate) (6.0.4)\nRequirement already satisfied: yarl<2.0,>=1.0 in /anaconda/envs/azureml_py38/lib/python3.8/site-packages (from aiohttp->datasets>=2.0.0->evaluate) (1.9.2)\nNote: you may need to restart the kernel to use updated packages.\n"
        }
      ],
      "execution_count": 1,
      "metadata": {
        "jupyter": {
          "source_hidden": false,
          "outputs_hidden": false
        },
        "nteract": {
          "transient": {
            "deleting": false
          }
        }
      },
      "id": "15008acb-9b03-4bee-814a-3635f4970a12"
    },
    {
      "cell_type": "code",
      "source": [
        "%pip install peft"
      ],
      "outputs": [
        {
          "output_type": "stream",
          "name": "stdout",
          "text": "Requirement already satisfied: peft in /anaconda/envs/azureml_py38/lib/python3.8/site-packages (0.9.0)\nRequirement already satisfied: transformers in /anaconda/envs/azureml_py38/lib/python3.8/site-packages (from peft) (4.38.2)\nCollecting torch>=1.13.0\n  Downloading torch-2.2.1-cp38-cp38-manylinux1_x86_64.whl (755.5 MB)\n\u001b[K     |████████████████████████████████| 755.5 MB 7.7 kB/s s eta 0:00:01\n\u001b[?25hRequirement already satisfied: pyyaml in /anaconda/envs/azureml_py38/lib/python3.8/site-packages (from peft) (6.0)\nRequirement already satisfied: tqdm in /anaconda/envs/azureml_py38/lib/python3.8/site-packages (from peft) (4.65.0)\nRequirement already satisfied: packaging>=20.0 in /anaconda/envs/azureml_py38/lib/python3.8/site-packages (from peft) (23.0)\nRequirement already satisfied: accelerate>=0.21.0 in /anaconda/envs/azureml_py38/lib/python3.8/site-packages (from peft) (0.27.2)\nRequirement already satisfied: safetensors in /anaconda/envs/azureml_py38/lib/python3.8/site-packages (from peft) (0.4.2)\nRequirement already satisfied: numpy>=1.17 in /anaconda/envs/azureml_py38/lib/python3.8/site-packages (from peft) (1.21.6)\nRequirement already satisfied: huggingface-hub>=0.17.0 in /anaconda/envs/azureml_py38/lib/python3.8/site-packages (from peft) (0.21.3)\nRequirement already satisfied: psutil in /anaconda/envs/azureml_py38/lib/python3.8/site-packages (from peft) (5.9.5)\nRequirement already satisfied: tokenizers<0.19,>=0.14 in /anaconda/envs/azureml_py38/lib/python3.8/site-packages (from transformers->peft) (0.15.2)\nRequirement already satisfied: filelock in /anaconda/envs/azureml_py38/lib/python3.8/site-packages (from transformers->peft) (3.12.0)\nRequirement already satisfied: requests in /anaconda/envs/azureml_py38/lib/python3.8/site-packages (from transformers->peft) (2.31.0)\nRequirement already satisfied: regex!=2019.12.17 in /anaconda/envs/azureml_py38/lib/python3.8/site-packages (from transformers->peft) (2023.5.5)\nCollecting nvidia-cublas-cu12==12.1.3.1; platform_system == \"Linux\" and platform_machine == \"x86_64\"\n  Downloading nvidia_cublas_cu12-12.1.3.1-py3-none-manylinux1_x86_64.whl (410.6 MB)\n\u001b[K     |████████████████████████████████| 410.6 MB 5.9 kB/s s eta 0:00:01\n\u001b[?25hCollecting nvidia-nvtx-cu12==12.1.105; platform_system == \"Linux\" and platform_machine == \"x86_64\"\n  Downloading nvidia_nvtx_cu12-12.1.105-py3-none-manylinux1_x86_64.whl (99 kB)\n\u001b[K     |████████████████████████████████| 99 kB 10.3 MB/s  eta 0:00:01\n\u001b[?25hCollecting nvidia-cuda-cupti-cu12==12.1.105; platform_system == \"Linux\" and platform_machine == \"x86_64\"\n  Downloading nvidia_cuda_cupti_cu12-12.1.105-py3-none-manylinux1_x86_64.whl (14.1 MB)\n\u001b[K     |████████████████████████████████| 14.1 MB 102.5 MB/s eta 0:00:01\n\u001b[?25hRequirement already satisfied: fsspec in /anaconda/envs/azureml_py38/lib/python3.8/site-packages (from torch>=1.13.0->peft) (2023.5.0)\nRequirement already satisfied: jinja2 in /anaconda/envs/azureml_py38/lib/python3.8/site-packages (from torch>=1.13.0->peft) (2.11.2)\nCollecting nvidia-cufft-cu12==11.0.2.54; platform_system == \"Linux\" and platform_machine == \"x86_64\"\n  Downloading nvidia_cufft_cu12-11.0.2.54-py3-none-manylinux1_x86_64.whl (121.6 MB)\n\u001b[K     |████████████████████████████████| 121.6 MB 62 kB/s s eta 0:00:01\n\u001b[?25hCollecting nvidia-curand-cu12==10.3.2.106; platform_system == \"Linux\" and platform_machine == \"x86_64\"\n  Downloading nvidia_curand_cu12-10.3.2.106-py3-none-manylinux1_x86_64.whl (56.5 MB)\n\u001b[K     |████████████████████████████████| 56.5 MB 122.8 MB/s eta 0:00:01\n\u001b[?25hCollecting nvidia-cudnn-cu12==8.9.2.26; platform_system == \"Linux\" and platform_machine == \"x86_64\"\n  Downloading nvidia_cudnn_cu12-8.9.2.26-py3-none-manylinux1_x86_64.whl (731.7 MB)\n\u001b[K     |████████████████████████████████| 731.7 MB 13 kB/s /s eta 0:00:01\n\u001b[?25hCollecting typing-extensions>=4.8.0\n  Downloading typing_extensions-4.10.0-py3-none-any.whl (33 kB)\nCollecting nvidia-cuda-nvrtc-cu12==12.1.105; platform_system == \"Linux\" and platform_machine == \"x86_64\"\n  Downloading nvidia_cuda_nvrtc_cu12-12.1.105-py3-none-manylinux1_x86_64.whl (23.7 MB)\n\u001b[K     |████████████████████████████████| 23.7 MB 82.4 MB/s eta 0:00:01\n\u001b[?25hCollecting triton==2.2.0; platform_system == \"Linux\" and platform_machine == \"x86_64\" and python_version < \"3.12\"\n  Downloading triton-2.2.0-cp38-cp38-manylinux_2_17_x86_64.manylinux2014_x86_64.whl (167.9 MB)\n\u001b[K     |████████████████████████████████| 167.9 MB 21 kB/s /s eta 0:00:01\n\u001b[?25hCollecting nvidia-nccl-cu12==2.19.3; platform_system == \"Linux\" and platform_machine == \"x86_64\"\n  Downloading nvidia_nccl_cu12-2.19.3-py3-none-manylinux1_x86_64.whl (166.0 MB)\n\u001b[K     |████████████████████████████████| 166.0 MB 78 kB/s /s eta 0:00:01\n\u001b[?25hRequirement already satisfied: networkx in /anaconda/envs/azureml_py38/lib/python3.8/site-packages (from torch>=1.13.0->peft) (2.5)\nCollecting nvidia-cusparse-cu12==12.1.0.106; platform_system == \"Linux\" and platform_machine == \"x86_64\"\n  Downloading nvidia_cusparse_cu12-12.1.0.106-py3-none-manylinux1_x86_64.whl (196.0 MB)\n\u001b[K     |████████████████████████████████| 196.0 MB 45 kB/s /s eta 0:00:01\n\u001b[?25hCollecting nvidia-cuda-runtime-cu12==12.1.105; platform_system == \"Linux\" and platform_machine == \"x86_64\"\n  Downloading nvidia_cuda_runtime_cu12-12.1.105-py3-none-manylinux1_x86_64.whl (823 kB)\n\u001b[K     |████████████████████████████████| 823 kB 80.4 MB/s eta 0:00:01\n\u001b[?25hCollecting nvidia-cusolver-cu12==11.4.5.107; platform_system == \"Linux\" and platform_machine == \"x86_64\"\n  Downloading nvidia_cusolver_cu12-11.4.5.107-py3-none-manylinux1_x86_64.whl (124.2 MB)\n\u001b[K     |████████████████████████████████| 124.2 MB 12 kB/s s eta 0:00:01\n\u001b[?25hCollecting sympy\n  Downloading sympy-1.12-py3-none-any.whl (5.7 MB)\n\u001b[K     |████████████████████████████████| 5.7 MB 118.3 MB/s eta 0:00:01\n\u001b[?25hRequirement already satisfied: urllib3<3,>=1.21.1 in /anaconda/envs/azureml_py38/lib/python3.8/site-packages (from requests->transformers->peft) (1.26.16)\nRequirement already satisfied: idna<4,>=2.5 in /anaconda/envs/azureml_py38/lib/python3.8/site-packages (from requests->transformers->peft) (3.4)\nRequirement already satisfied: certifi>=2017.4.17 in /anaconda/envs/azureml_py38/lib/python3.8/site-packages (from requests->transformers->peft) (2022.9.24)\nRequirement already satisfied: charset-normalizer<4,>=2 in /anaconda/envs/azureml_py38/lib/python3.8/site-packages (from requests->transformers->peft) (3.1.0)\nRequirement already satisfied: MarkupSafe>=0.23 in /anaconda/envs/azureml_py38/lib/python3.8/site-packages (from jinja2->torch>=1.13.0->peft) (2.0.1)\nRequirement already satisfied: decorator>=4.3.0 in /anaconda/envs/azureml_py38/lib/python3.8/site-packages (from networkx->torch>=1.13.0->peft) (5.1.1)\nCollecting nvidia-nvjitlink-cu12\n  Downloading nvidia_nvjitlink_cu12-12.3.101-py3-none-manylinux1_x86_64.whl (20.5 MB)\n\u001b[K     |████████████████████████████████| 20.5 MB 115.3 MB/s eta 0:00:01\n\u001b[?25hCollecting mpmath>=0.19\n  Downloading mpmath-1.3.0-py3-none-any.whl (536 kB)\n\u001b[K     |████████████████████████████████| 536 kB 120.6 MB/s eta 0:00:01\n\u001b[31mERROR: tensorflow 2.11.0 has requirement protobuf<3.20,>=3.9.2, but you'll have protobuf 3.20.3 which is incompatible.\u001b[0m\n\u001b[31mERROR: dask-sql 2023.6.0 has requirement pandas>=1.4.0, but you'll have pandas 1.1.5 which is incompatible.\u001b[0m\n\u001b[31mERROR: azureml-inference-server-http 0.8.4 has requirement flask<2.3.0, but you'll have flask 2.3.2 which is incompatible.\u001b[0m\n\u001b[31mERROR: azureml-automl-dnn-nlp 1.51.0 has requirement datasets<=2.3.2,>=1.7.0, but you'll have datasets 2.18.0 which is incompatible.\u001b[0m\n\u001b[31mERROR: azureml-automl-dnn-nlp 1.51.0 has requirement torch<=1.12.0,>=1.5.0, but you'll have torch 2.2.1 which is incompatible.\u001b[0m\n\u001b[31mERROR: azureml-automl-dnn-nlp 1.51.0 has requirement transformers[sentencepiece]<=4.16.0, but you'll have transformers 4.38.2 which is incompatible.\u001b[0m\n\u001b[31mERROR: azure-cli 2.49.0 has requirement azure-keyvault-keys==4.8.0b2, but you'll have azure-keyvault-keys 4.8.0 which is incompatible.\u001b[0m\n\u001b[31mERROR: azure-cli 2.49.0 has requirement azure-mgmt-keyvault==10.2.0, but you'll have azure-mgmt-keyvault 10.2.1 which is incompatible.\u001b[0m\n\u001b[31mERROR: azure-cli 2.49.0 has requirement azure-mgmt-resource==22.0.0, but you'll have azure-mgmt-resource 21.1.0b1 which is incompatible.\u001b[0m\n\u001b[31mERROR: autokeras 1.0.16 has requirement tensorflow<=2.5.0,>=2.3.0, but you'll have tensorflow 2.11.0 which is incompatible.\u001b[0m\n\u001b[31mERROR: arviz 0.11.2 has requirement typing-extensions<4,>=3.7.4.3, but you'll have typing-extensions 4.10.0 which is incompatible.\u001b[0m\n\u001b[?25hInstalling collected packages: nvidia-cublas-cu12, nvidia-nvtx-cu12, nvidia-cuda-cupti-cu12, nvidia-cufft-cu12, nvidia-curand-cu12, nvidia-cudnn-cu12, typing-extensions, nvidia-cuda-nvrtc-cu12, triton, nvidia-nccl-cu12, nvidia-nvjitlink-cu12, nvidia-cusparse-cu12, nvidia-cuda-runtime-cu12, nvidia-cusolver-cu12, mpmath, sympy, torch\n  Attempting uninstall: typing-extensions\n    Found existing installation: typing-extensions 4.6.0\n    Uninstalling typing-extensions-4.6.0:\n      Successfully uninstalled typing-extensions-4.6.0\n  Attempting uninstall: torch\n    Found existing installation: torch 1.12.0\n    Uninstalling torch-1.12.0:\n      Successfully uninstalled torch-1.12.0\nSuccessfully installed mpmath-1.3.0 nvidia-cublas-cu12-12.1.3.1 nvidia-cuda-cupti-cu12-12.1.105 nvidia-cuda-nvrtc-cu12-12.1.105 nvidia-cuda-runtime-cu12-12.1.105 nvidia-cudnn-cu12-8.9.2.26 nvidia-cufft-cu12-11.0.2.54 nvidia-curand-cu12-10.3.2.106 nvidia-cusolver-cu12-11.4.5.107 nvidia-cusparse-cu12-12.1.0.106 nvidia-nccl-cu12-2.19.3 nvidia-nvjitlink-cu12-12.3.101 nvidia-nvtx-cu12-12.1.105 sympy-1.12 torch-2.2.1 triton-2.2.0 typing-extensions-4.10.0\nNote: you may need to restart the kernel to use updated packages.\n"
        },
        {
          "output_type": "stream",
          "name": "stderr",
          "text": "IOPub data rate exceeded.\nThe Jupyter server will temporarily stop sending output\nto the client in order to avoid crashing it.\nTo change this limit, set the config variable\n`--ServerApp.iopub_data_rate_limit`.\n\nCurrent values:\nServerApp.iopub_data_rate_limit=1000000.0 (bytes/sec)\nServerApp.rate_limit_window=3.0 (secs)\n\nIOPub data rate exceeded.\nThe Jupyter server will temporarily stop sending output\nto the client in order to avoid crashing it.\nTo change this limit, set the config variable\n`--ServerApp.iopub_data_rate_limit`.\n\nCurrent values:\nServerApp.iopub_data_rate_limit=1000000.0 (bytes/sec)\nServerApp.rate_limit_window=3.0 (secs)\n\nIOPub data rate exceeded.\nThe Jupyter server will temporarily stop sending output\nto the client in order to avoid crashing it.\nTo change this limit, set the config variable\n`--ServerApp.iopub_data_rate_limit`.\n\nCurrent values:\nServerApp.iopub_data_rate_limit=1000000.0 (bytes/sec)\nServerApp.rate_limit_window=3.0 (secs)\n\nIOPub data rate exceeded.\nThe Jupyter server will temporarily stop sending output\nto the client in order to avoid crashing it.\nTo change this limit, set the config variable\n`--ServerApp.iopub_data_rate_limit`.\n\nCurrent values:\nServerApp.iopub_data_rate_limit=1000000.0 (bytes/sec)\nServerApp.rate_limit_window=3.0 (secs)\n\nIOPub data rate exceeded.\nThe Jupyter server will temporarily stop sending output\nto the client in order to avoid crashing it.\nTo change this limit, set the config variable\n`--ServerApp.iopub_data_rate_limit`.\n\nCurrent values:\nServerApp.iopub_data_rate_limit=1000000.0 (bytes/sec)\nServerApp.rate_limit_window=3.0 (secs)\n\n"
        }
      ],
      "execution_count": 2,
      "metadata": {
        "jupyter": {
          "source_hidden": false,
          "outputs_hidden": false
        },
        "nteract": {
          "transient": {
            "deleting": false
          }
        }
      },
      "id": "58f7226c-7219-49df-b1fa-86ab459cecd1"
    },
    {
      "cell_type": "code",
      "source": [
        "%pip install bitsandbytes"
      ],
      "outputs": [
        {
          "output_type": "stream",
          "name": "stdout",
          "text": "Requirement already satisfied: bitsandbytes in /anaconda/envs/azureml_py38/lib/python3.8/site-packages (0.42.0)\nRequirement already satisfied: scipy in /anaconda/envs/azureml_py38/lib/python3.8/site-packages (from bitsandbytes) (1.5.3)\nRequirement already satisfied: numpy>=1.14.5 in /anaconda/envs/azureml_py38/lib/python3.8/site-packages (from scipy->bitsandbytes) (1.21.6)\nNote: you may need to restart the kernel to use updated packages.\n"
        }
      ],
      "execution_count": 3,
      "metadata": {
        "jupyter": {
          "source_hidden": false,
          "outputs_hidden": false
        },
        "nteract": {
          "transient": {
            "deleting": false
          }
        }
      },
      "id": "ad24306f-252d-431a-baa1-affc201fd476"
    },
    {
      "cell_type": "code",
      "source": [
        "%pip install accelerate"
      ],
      "outputs": [
        {
          "output_type": "stream",
          "name": "stdout",
          "text": "Requirement already satisfied: accelerate in /anaconda/envs/azureml_py38/lib/python3.8/site-packages (0.27.2)\nRequirement already satisfied: psutil in /anaconda/envs/azureml_py38/lib/python3.8/site-packages (from accelerate) (5.9.5)\nRequirement already satisfied: packaging>=20.0 in /anaconda/envs/azureml_py38/lib/python3.8/site-packages (from accelerate) (23.0)\nRequirement already satisfied: huggingface-hub in /anaconda/envs/azureml_py38/lib/python3.8/site-packages (from accelerate) (0.21.3)\nRequirement already satisfied: safetensors>=0.3.1 in /anaconda/envs/azureml_py38/lib/python3.8/site-packages (from accelerate) (0.4.2)\nRequirement already satisfied: torch>=1.10.0 in /anaconda/envs/azureml_py38/lib/python3.8/site-packages (from accelerate) (2.2.1)\nRequirement already satisfied: numpy>=1.17 in /anaconda/envs/azureml_py38/lib/python3.8/site-packages (from accelerate) (1.21.6)\nRequirement already satisfied: pyyaml in /anaconda/envs/azureml_py38/lib/python3.8/site-packages (from accelerate) (6.0)\nRequirement already satisfied: requests in /anaconda/envs/azureml_py38/lib/python3.8/site-packages (from huggingface-hub->accelerate) (2.31.0)\nRequirement already satisfied: filelock in /anaconda/envs/azureml_py38/lib/python3.8/site-packages (from huggingface-hub->accelerate) (3.12.0)\nRequirement already satisfied: typing-extensions>=3.7.4.3 in /anaconda/envs/azureml_py38/lib/python3.8/site-packages (from huggingface-hub->accelerate) (4.10.0)\nRequirement already satisfied: fsspec>=2023.5.0 in /anaconda/envs/azureml_py38/lib/python3.8/site-packages (from huggingface-hub->accelerate) (2023.5.0)\nRequirement already satisfied: tqdm>=4.42.1 in /anaconda/envs/azureml_py38/lib/python3.8/site-packages (from huggingface-hub->accelerate) (4.65.0)\nRequirement already satisfied: nvidia-nccl-cu12==2.19.3; platform_system == \"Linux\" and platform_machine == \"x86_64\" in /anaconda/envs/azureml_py38/lib/python3.8/site-packages (from torch>=1.10.0->accelerate) (2.19.3)\nRequirement already satisfied: nvidia-cublas-cu12==12.1.3.1; platform_system == \"Linux\" and platform_machine == \"x86_64\" in /anaconda/envs/azureml_py38/lib/python3.8/site-packages (from torch>=1.10.0->accelerate) (12.1.3.1)\nRequirement already satisfied: nvidia-cufft-cu12==11.0.2.54; platform_system == \"Linux\" and platform_machine == \"x86_64\" in /anaconda/envs/azureml_py38/lib/python3.8/site-packages (from torch>=1.10.0->accelerate) (11.0.2.54)\nRequirement already satisfied: triton==2.2.0; platform_system == \"Linux\" and platform_machine == \"x86_64\" and python_version < \"3.12\" in /anaconda/envs/azureml_py38/lib/python3.8/site-packages (from torch>=1.10.0->accelerate) (2.2.0)\nRequirement already satisfied: nvidia-cusolver-cu12==11.4.5.107; platform_system == \"Linux\" and platform_machine == \"x86_64\" in /anaconda/envs/azureml_py38/lib/python3.8/site-packages (from torch>=1.10.0->accelerate) (11.4.5.107)\nRequirement already satisfied: nvidia-cuda-cupti-cu12==12.1.105; platform_system == \"Linux\" and platform_machine == \"x86_64\" in /anaconda/envs/azureml_py38/lib/python3.8/site-packages (from torch>=1.10.0->accelerate) (12.1.105)\nRequirement already satisfied: networkx in /anaconda/envs/azureml_py38/lib/python3.8/site-packages (from torch>=1.10.0->accelerate) (2.5)\nRequirement already satisfied: jinja2 in /anaconda/envs/azureml_py38/lib/python3.8/site-packages (from torch>=1.10.0->accelerate) (2.11.2)\nRequirement already satisfied: nvidia-cudnn-cu12==8.9.2.26; platform_system == \"Linux\" and platform_machine == \"x86_64\" in /anaconda/envs/azureml_py38/lib/python3.8/site-packages (from torch>=1.10.0->accelerate) (8.9.2.26)\nRequirement already satisfied: sympy in /anaconda/envs/azureml_py38/lib/python3.8/site-packages (from torch>=1.10.0->accelerate) (1.12)\nRequirement already satisfied: nvidia-curand-cu12==10.3.2.106; platform_system == \"Linux\" and platform_machine == \"x86_64\" in /anaconda/envs/azureml_py38/lib/python3.8/site-packages (from torch>=1.10.0->accelerate) (10.3.2.106)\nRequirement already satisfied: nvidia-nvtx-cu12==12.1.105; platform_system == \"Linux\" and platform_machine == \"x86_64\" in /anaconda/envs/azureml_py38/lib/python3.8/site-packages (from torch>=1.10.0->accelerate) (12.1.105)\nRequirement already satisfied: nvidia-cuda-runtime-cu12==12.1.105; platform_system == \"Linux\" and platform_machine == \"x86_64\" in /anaconda/envs/azureml_py38/lib/python3.8/site-packages (from torch>=1.10.0->accelerate) (12.1.105)\nRequirement already satisfied: nvidia-cuda-nvrtc-cu12==12.1.105; platform_system == \"Linux\" and platform_machine == \"x86_64\" in /anaconda/envs/azureml_py38/lib/python3.8/site-packages (from torch>=1.10.0->accelerate) (12.1.105)\nRequirement already satisfied: nvidia-cusparse-cu12==12.1.0.106; platform_system == \"Linux\" and platform_machine == \"x86_64\" in /anaconda/envs/azureml_py38/lib/python3.8/site-packages (from torch>=1.10.0->accelerate) (12.1.0.106)\nRequirement already satisfied: idna<4,>=2.5 in /anaconda/envs/azureml_py38/lib/python3.8/site-packages (from requests->huggingface-hub->accelerate) (3.4)\nRequirement already satisfied: urllib3<3,>=1.21.1 in /anaconda/envs/azureml_py38/lib/python3.8/site-packages (from requests->huggingface-hub->accelerate) (1.26.16)\nRequirement already satisfied: charset-normalizer<4,>=2 in /anaconda/envs/azureml_py38/lib/python3.8/site-packages (from requests->huggingface-hub->accelerate) (3.1.0)\nRequirement already satisfied: certifi>=2017.4.17 in /anaconda/envs/azureml_py38/lib/python3.8/site-packages (from requests->huggingface-hub->accelerate) (2022.9.24)\nRequirement already satisfied: nvidia-nvjitlink-cu12 in /anaconda/envs/azureml_py38/lib/python3.8/site-packages (from nvidia-cusolver-cu12==11.4.5.107; platform_system == \"Linux\" and platform_machine == \"x86_64\"->torch>=1.10.0->accelerate) (12.3.101)\nRequirement already satisfied: decorator>=4.3.0 in /anaconda/envs/azureml_py38/lib/python3.8/site-packages (from networkx->torch>=1.10.0->accelerate) (5.1.1)\nRequirement already satisfied: MarkupSafe>=0.23 in /anaconda/envs/azureml_py38/lib/python3.8/site-packages (from jinja2->torch>=1.10.0->accelerate) (2.0.1)\nRequirement already satisfied: mpmath>=0.19 in /anaconda/envs/azureml_py38/lib/python3.8/site-packages (from sympy->torch>=1.10.0->accelerate) (1.3.0)\nNote: you may need to restart the kernel to use updated packages.\n"
        }
      ],
      "execution_count": 4,
      "metadata": {
        "jupyter": {
          "source_hidden": false,
          "outputs_hidden": false
        },
        "nteract": {
          "transient": {
            "deleting": false
          }
        }
      },
      "id": "52e209ad-a3a6-41f2-92d0-242e12e8d3be"
    },
    {
      "cell_type": "code",
      "source": [
        "%pip install sentencepiece"
      ],
      "outputs": [
        {
          "output_type": "stream",
          "name": "stdout",
          "text": "Requirement already satisfied: sentencepiece in /anaconda/envs/azureml_py38/lib/python3.8/site-packages (0.2.0)\nNote: you may need to restart the kernel to use updated packages.\n"
        }
      ],
      "execution_count": 5,
      "metadata": {
        "jupyter": {
          "source_hidden": false,
          "outputs_hidden": false
        },
        "nteract": {
          "transient": {
            "deleting": false
          }
        }
      },
      "id": "da1a38c0-6a69-4fd4-94ec-a40ed30acd24"
    },
    {
      "cell_type": "code",
      "source": [],
      "outputs": [],
      "execution_count": null,
      "metadata": {
        "jupyter": {
          "source_hidden": false,
          "outputs_hidden": false
        },
        "nteract": {
          "transient": {
            "deleting": false
          }
        }
      },
      "id": "8c529412-b365-4bbb-8ac3-b1fb630dacb7"
    },
    {
      "cell_type": "code",
      "source": [
        "!wget https://github.com/wandb/edu/raw/main/llm-training-course/colab/utils.py"
      ],
      "outputs": [
        {
          "output_type": "stream",
          "name": "stdout",
          "text": "--2024-03-05 13:13:41--  https://github.com/wandb/edu/raw/main/llm-training-course/colab/utils.py\nResolving github.com (github.com)... 140.82.112.4\nConnecting to github.com (github.com)|140.82.112.4|:443... connected.\nHTTP request sent, awaiting response... 302 Found\nLocation: https://raw.githubusercontent.com/wandb/edu/main/llm-training-course/colab/utils.py [following]\n--2024-03-05 13:13:41--  https://raw.githubusercontent.com/wandb/edu/main/llm-training-course/colab/utils.py\nResolving raw.githubusercontent.com (raw.githubusercontent.com)... 185.199.108.133, 185.199.109.133, 185.199.110.133, ...\nConnecting to raw.githubusercontent.com (raw.githubusercontent.com)|185.199.108.133|:443... connected.\nHTTP request sent, awaiting response... 200 OK\nLength: 8155 (8.0K) [text/plain]\nSaving to: ‘utils.py.4’\n\nutils.py.4          100%[===================>]   7.96K  --.-KB/s    in 0.008s  \n\n2024-03-05 13:13:41 (1.03 MB/s) - ‘utils.py.4’ saved [8155/8155]\n\n"
        }
      ],
      "execution_count": 2,
      "metadata": {
        "id": "D_x8mMbGKb67"
      },
      "id": "D_x8mMbGKb67"
    },
    {
      "cell_type": "markdown",
      "source": [
        "Let's grab the Alpaca (GPT-4 curated instructions and outputs) dataset:"
      ],
      "metadata": {
        "id": "da04c0a5-f481-4364-880d-10c254388987"
      },
      "id": "da04c0a5-f481-4364-880d-10c254388987"
    },
    {
      "cell_type": "code",
      "source": [
        "import wandb\n",
        "wandb.init(project=\"alpaca_ft\", # the project I am working on\n",
        "           job_type=\"train\",\n",
        "           tags=[\"hf_sft_lora\", \"3b\"]) # the Hyperparameters I want to keep track of\n",
        "artifact = wandb.use_artifact('capecape/alpaca_ft/alpaca_gpt4_splitted:v4', type='dataset')\n",
        "artifact_dir = artifact.download()"
      ],
      "outputs": [
        {
          "output_type": "stream",
          "name": "stderr",
          "text": "\u001b[34m\u001b[1mwandb\u001b[0m: Currently logged in as: \u001b[33mbalabala76\u001b[0m. Use \u001b[1m`wandb login --relogin`\u001b[0m to force relogin\n"
        },
        {
          "output_type": "display_data",
          "data": {
            "text/plain": "<IPython.core.display.HTML object>",
            "text/html": "Tracking run with wandb version 0.16.3"
          },
          "metadata": {}
        },
        {
          "output_type": "display_data",
          "data": {
            "text/plain": "<IPython.core.display.HTML object>",
            "text/html": "Run data is saved locally in <code>/mnt/batch/tasks/shared/LS_root/mounts/clusters/babal1/code/Users/babal/finetune/wandb/run-20240305_145744-qodndml3</code>"
          },
          "metadata": {}
        },
        {
          "output_type": "display_data",
          "data": {
            "text/plain": "<IPython.core.display.HTML object>",
            "text/html": "Syncing run <strong><a href='https://wandb.ai/balabala76/alpaca_ft/runs/qodndml3' target=\"_blank\">trim-forest-5</a></strong> to <a href='https://wandb.ai/balabala76/alpaca_ft' target=\"_blank\">Weights & Biases</a> (<a href='https://wandb.me/run' target=\"_blank\">docs</a>)<br/>"
          },
          "metadata": {}
        },
        {
          "output_type": "display_data",
          "data": {
            "text/plain": "<IPython.core.display.HTML object>",
            "text/html": " View project at <a href='https://wandb.ai/balabala76/alpaca_ft' target=\"_blank\">https://wandb.ai/balabala76/alpaca_ft</a>"
          },
          "metadata": {}
        },
        {
          "output_type": "display_data",
          "data": {
            "text/plain": "<IPython.core.display.HTML object>",
            "text/html": " View run at <a href='https://wandb.ai/balabala76/alpaca_ft/runs/qodndml3' target=\"_blank\">https://wandb.ai/balabala76/alpaca_ft/runs/qodndml3</a>"
          },
          "metadata": {}
        },
        {
          "output_type": "stream",
          "name": "stderr",
          "text": "\u001b[34m\u001b[1mwandb\u001b[0m:   2 of 2 files downloaded.  \n"
        }
      ],
      "execution_count": 3,
      "metadata": {
        "id": "a154f968-da0f-4bdc-bf45-e499d95f0606",
        "tags": [],
        "gather": {
          "logged": 1709650688141
        }
      },
      "id": "a154f968-da0f-4bdc-bf45-e499d95f0606"
    },
    {
      "cell_type": "code",
      "source": [
        "from datasets import load_dataset\n",
        "alpaca_ds = load_dataset(\"json\", data_dir=artifact_dir)"
      ],
      "outputs": [],
      "execution_count": 4,
      "metadata": {
        "id": "811291cc-b7ce-422a-8971-3cbf9fe10a7f",
        "tags": [],
        "gather": {
          "logged": 1709650700510
        }
      },
      "id": "811291cc-b7ce-422a-8971-3cbf9fe10a7f"
    },
    {
      "cell_type": "code",
      "source": [
        "# Let's subsample the training and test dataset - you may want to switch to full dataset in your experiments\n",
        "alpaca_ds['train'] = alpaca_ds['train'].select(range(512))\n",
        "alpaca_ds['test'] = alpaca_ds['test'].select(range(10))"
      ],
      "outputs": [],
      "execution_count": 5,
      "metadata": {
        "id": "Asdi_3G1EFsz",
        "gather": {
          "logged": 1709650705021
        }
      },
      "id": "Asdi_3G1EFsz"
    },
    {
      "cell_type": "markdown",
      "source": [
        "Let's log the dataset also as a table so we can inspect it on the workspace."
      ],
      "metadata": {
        "id": "26cb96e0-b2f2-4a79-ba65-e1c8d6395d54"
      },
      "id": "26cb96e0-b2f2-4a79-ba65-e1c8d6395d54"
    },
    {
      "cell_type": "code",
      "source": [
        "def prompt_no_input(row):\n",
        "    return (\"Below is an instruction that describes a task. \"\n",
        "            \"Write a response that appropriately completes the request.\\n\\n\"\n",
        "            \"### Instruction:\\n{instruction}\\n\\n### Response:\\n{output}\").format_map(row)\n",
        "\n",
        "def prompt_input(row):\n",
        "    return (\"Below is an instruction that describes a task, paired with an input that provides further context. \"\n",
        "            \"Write a response that appropriately completes the request.\\n\\n\"\n",
        "            \"### Instruction:\\n{instruction}\\n\\n### Input:\\n{input}\\n\\n### Response:\\n{output}\").format_map(row)\n",
        "\n",
        "def create_prompt(row):\n",
        "    return prompt_no_input(row) if row[\"input\"] == \"\" else prompt_input(row)"
      ],
      "outputs": [],
      "execution_count": 6,
      "metadata": {
        "id": "5caaf114-3350-4570-b4d4-fb090399cc73",
        "tags": [],
        "gather": {
          "logged": 1709650710433
        }
      },
      "id": "5caaf114-3350-4570-b4d4-fb090399cc73"
    },
    {
      "cell_type": "code",
      "source": [
        "train_dataset = alpaca_ds[\"train\"]\n",
        "eval_dataset = alpaca_ds[\"test\"]"
      ],
      "outputs": [],
      "execution_count": 7,
      "metadata": {
        "id": "4c7dda87-d70a-470b-a0f9-040af434dc42",
        "tags": [],
        "gather": {
          "logged": 1709650711665
        }
      },
      "id": "4c7dda87-d70a-470b-a0f9-040af434dc42"
    },
    {
      "cell_type": "code",
      "source": [
        "import torch\n",
        "from transformers import AutoModelForCausalLM, AutoTokenizer"
      ],
      "outputs": [],
      "execution_count": 8,
      "metadata": {
        "id": "720c707b-3bce-4164-b8c1-3c3122200c39",
        "tags": [],
        "gather": {
          "logged": 1709650721307
        }
      },
      "id": "720c707b-3bce-4164-b8c1-3c3122200c39"
    },
    {
      "cell_type": "code",
      "source": [
        "from huggingface_hub import notebook_login\n",
        "notebook_login()"
      ],
      "outputs": [
        {
          "output_type": "display_data",
          "data": {
            "text/plain": "VBox(children=(HTML(value='<center> <img\\nsrc=https://huggingface.co/front/assets/huggingface_logo-noborder.sv…",
            "application/vnd.jupyter.widget-view+json": {
              "version_major": 2,
              "version_minor": 0,
              "model_id": "d4c5e44fdfea413d896daa379a836e97"
            }
          },
          "metadata": {}
        }
      ],
      "execution_count": 9,
      "metadata": {
        "jupyter": {
          "source_hidden": false,
          "outputs_hidden": false
        },
        "nteract": {
          "transient": {
            "deleting": false
          }
        },
        "gather": {
          "logged": 1709650723000
        }
      },
      "id": "cc4d675b-3acb-4e9a-a30e-ac6063da805e"
    },
    {
      "cell_type": "code",
      "source": [
        "#model_id = 'openlm-research/open_llama_3b_v2'\n",
        "model_id = 'microsoft/phi-2'\n",
        "#model_id = 'meta-llama/Llama-2-7b-hf'"
      ],
      "outputs": [],
      "execution_count": 44,
      "metadata": {
        "id": "4162aec8-f2ba-45db-9633-817b416d4e57",
        "tags": [],
        "gather": {
          "logged": 1709656260443
        }
      },
      "id": "4162aec8-f2ba-45db-9633-817b416d4e57"
    },
    {
      "cell_type": "markdown",
      "source": [
        "Let's define our configurations for LoRA, quantization and model training so that it fits on our GPU."
      ],
      "metadata": {
        "id": "2duDODtwaWrA"
      },
      "id": "2duDODtwaWrA"
    },
    {
      "cell_type": "code",
      "source": [
        "from peft import LoraConfig, get_peft_model\n",
        "\n",
        "peft_config = LoraConfig(\n",
        "    r=64,  # the rank of the LoRA matrices\n",
        "    lora_alpha=16, # the weight\n",
        "    lora_dropout=0.1, # dropout to add to the LoRA layers\n",
        "    bias=\"none\", # add bias to the nn.Linear layers?\n",
        "    task_type=\"CAUSAL_LM\",\n",
        "    target_modules=[\"q_proj\", \"k_proj\",\"v_proj\",\"o_proj\"], # the name of the layers to add LoRA\n",
        ")"
      ],
      "outputs": [],
      "execution_count": 32,
      "metadata": {
        "id": "b8e625f5-e901-41e6-8045-0da0ad455728",
        "gather": {
          "logged": 1709652725511
        }
      },
      "id": "b8e625f5-e901-41e6-8045-0da0ad455728"
    },
    {
      "cell_type": "code",
      "source": [
        "from transformers import BitsAndBytesConfig\n",
        "\n",
        "bnb_config = BitsAndBytesConfig(\n",
        "    load_in_4bit=True,\n",
        "    bnb_4bit_quant_type=\"nf4\",\n",
        "    bnb_4bit_use_double_quant=True,\n",
        "    bnb_4bit_compute_dtype=torch.float16\n",
        ")"
      ],
      "outputs": [],
      "execution_count": 34,
      "metadata": {
        "id": "_9n8JJ1ZE7RI",
        "gather": {
          "logged": 1709652740941
        }
      },
      "id": "_9n8JJ1ZE7RI"
    },
    {
      "cell_type": "code",
      "source": [
        "model_kwargs = dict(\n",
        "    device_map={\"\" : 0},\n",
        "    trust_remote_code=True,\n",
        "    # low_cpu_mem_usage=True,\n",
        "    torch_dtype=torch.float16,\n",
        "    # use_flash_attention_2=True,\n",
        "    use_cache=False,\n",
        "    quantization_config=bnb_config,\n",
        ")"
      ],
      "outputs": [],
      "execution_count": 35,
      "metadata": {
        "id": "51c10f7f-2551-4aa4-aef2-29c888b57a12",
        "tags": [],
        "gather": {
          "logged": 1709652742667
        }
      },
      "id": "51c10f7f-2551-4aa4-aef2-29c888b57a12"
    },
    {
      "cell_type": "code",
      "source": [
        "from transformers import TrainingArguments\n",
        "from trl import SFTTrainer"
      ],
      "outputs": [],
      "execution_count": 36,
      "metadata": {
        "id": "ac3525d7-3028-499e-8749-c6fbc21a26d5",
        "tags": [],
        "gather": {
          "logged": 1709652747405
        }
      },
      "id": "ac3525d7-3028-499e-8749-c6fbc21a26d5"
    },
    {
      "cell_type": "code",
      "source": [
        "batch_size = 2\n",
        "gradient_accumulation_steps = 16\n",
        "num_train_epochs = 10"
      ],
      "outputs": [],
      "execution_count": 37,
      "metadata": {
        "id": "1c78dee3-218a-4ee0-9883-f33209c4faaf",
        "tags": [],
        "gather": {
          "logged": 1709652749834
        }
      },
      "id": "1c78dee3-218a-4ee0-9883-f33209c4faaf"
    },
    {
      "cell_type": "markdown",
      "source": [
        "We'll add a `report_to=\"wandb\"` flag here to get the benefits of [W&B HuggingFace integration](https://docs.wandb.ai/guides/integrations/huggingface)."
      ],
      "metadata": {
        "id": "feb03a22-b31b-4250-bb2c-e51d43111623"
      },
      "id": "feb03a22-b31b-4250-bb2c-e51d43111623"
    },
    {
      "cell_type": "code",
      "source": [
        "output_dir = \"./output/\"\n",
        "training_args = TrainingArguments(\n",
        "    num_train_epochs=num_train_epochs,\n",
        "    output_dir=output_dir,\n",
        "    per_device_train_batch_size=batch_size,\n",
        "    per_device_eval_batch_size=batch_size,\n",
        "    fp16=True,\n",
        "    learning_rate=2e-4,\n",
        "    lr_scheduler_type=\"cosine\",\n",
        "    warmup_ratio=0.1,\n",
        "    gradient_accumulation_steps=gradient_accumulation_steps,\n",
        "    gradient_checkpointing=True,\n",
        "    gradient_checkpointing_kwargs=dict(use_reentrant=False),\n",
        "    evaluation_strategy=\"epoch\",\n",
        "    logging_strategy=\"steps\",\n",
        "    logging_steps=1,\n",
        "    save_strategy=\"epoch\",\n",
        "    report_to=\"wandb\",\n",
        ")"
      ],
      "outputs": [],
      "execution_count": 38,
      "metadata": {
        "id": "c86339ca-27e5-496b-9559-3a65bb3c26a1",
        "tags": [],
        "gather": {
          "logged": 1709652751615
        }
      },
      "id": "c86339ca-27e5-496b-9559-3a65bb3c26a1"
    },
    {
      "cell_type": "code",
      "source": [
        "from utils import LLMSampleCB\n",
        "\n",
        "trainer = SFTTrainer(\n",
        "    model=model_id,\n",
        "    model_init_kwargs=model_kwargs,\n",
        "    train_dataset=train_dataset,\n",
        "    eval_dataset=eval_dataset,\n",
        "    packing=True,\n",
        "    max_seq_length=1024,\n",
        "    args=training_args,\n",
        "    formatting_func=create_prompt,\n",
        "    peft_config=peft_config,\n",
        ")"
      ],
      "outputs": [
        {
          "output_type": "stream",
          "name": "stderr",
          "text": "/anaconda/envs/azureml_py38/lib/python3.8/site-packages/trl/trainer/sft_trainer.py:161: UserWarning: You passed a model_id to the SFTTrainer. This will automatically create an `AutoModelForCausalLM` or a `PeftModel` (if you passed a `peft_config`) for you.\n  warnings.warn(\n"
        },
        {
          "output_type": "display_data",
          "data": {
            "text/plain": "Loading checkpoint shards:   0%|          | 0/2 [00:00<?, ?it/s]",
            "application/vnd.jupyter.widget-view+json": {
              "version_major": 2,
              "version_minor": 0,
              "model_id": "808514a133fa4b38b956165e070d3662"
            }
          },
          "metadata": {}
        }
      ],
      "execution_count": 39,
      "metadata": {
        "id": "e35a9b70-f36b-4bfd-857f-c80d3450e111",
        "tags": [],
        "gather": {
          "logged": 1709652910388
        }
      },
      "id": "e35a9b70-f36b-4bfd-857f-c80d3450e111"
    },
    {
      "cell_type": "code",
      "source": [
        "# remove answers\n",
        "def create_prompt_no_anwer(row):\n",
        "    row[\"output\"] = \"\"\n",
        "    return {\"text\": create_prompt(row)}\n",
        "\n",
        "test_dataset = eval_dataset.map(create_prompt_no_anwer)"
      ],
      "outputs": [],
      "execution_count": 40,
      "metadata": {
        "id": "c0dbcb42-1e94-4f68-9edf-102f337ebf14",
        "tags": [],
        "gather": {
          "logged": 1709653160647
        }
      },
      "id": "c0dbcb42-1e94-4f68-9edf-102f337ebf14"
    },
    {
      "cell_type": "markdown",
      "source": [
        "We will add a custom W&B callback to the trainer so that we can sample and log model generations in W&B dashboard. Review [W&B HuggingFace documentation](https://docs.wandb.ai/guides/integrations/huggingface) for the most up-to-date best practices."
      ],
      "metadata": {
        "id": "gPQmq3gsai0I"
      },
      "id": "gPQmq3gsai0I"
    },
    {
      "cell_type": "code",
      "source": [
        "wandb_callback = LLMSampleCB(trainer, test_dataset, num_samples=10, max_new_tokens=256)"
      ],
      "outputs": [],
      "execution_count": 41,
      "metadata": {
        "id": "9d6748da-bbc7-4962-bbc4-1650ff18aefe",
        "tags": [],
        "gather": {
          "logged": 1709653164725
        }
      },
      "id": "9d6748da-bbc7-4962-bbc4-1650ff18aefe"
    },
    {
      "cell_type": "code",
      "source": [
        "trainer.add_callback(wandb_callback)"
      ],
      "outputs": [],
      "execution_count": 42,
      "metadata": {
        "id": "df6d1457-3c7a-47e6-994b-334dbe9c3d5e",
        "tags": [],
        "gather": {
          "logged": 1709653165989
        }
      },
      "id": "df6d1457-3c7a-47e6-994b-334dbe9c3d5e"
    },
    {
      "cell_type": "markdown",
      "source": [
        "It's time to train!"
      ],
      "metadata": {
        "id": "tA5MJVEDauaG"
      },
      "id": "tA5MJVEDauaG"
    },
    {
      "cell_type": "code",
      "source": [
        "trainer.train()\n",
        "wandb.finish()"
      ],
      "outputs": [
        {
          "output_type": "display_data",
          "data": {
            "text/plain": "<IPython.core.display.HTML object>",
            "text/html": "Tracking run with wandb version 0.16.3"
          },
          "metadata": {}
        },
        {
          "output_type": "display_data",
          "data": {
            "text/plain": "<IPython.core.display.HTML object>",
            "text/html": "Run data is saved locally in <code>/mnt/batch/tasks/shared/LS_root/mounts/clusters/babal1/code/Users/babal/finetune/wandb/run-20240305_153921-1897g0nf</code>"
          },
          "metadata": {}
        },
        {
          "output_type": "display_data",
          "data": {
            "text/plain": "<IPython.core.display.HTML object>",
            "text/html": "Syncing run <strong><a href='https://wandb.ai/balabala76/huggingface/runs/1897g0nf' target=\"_blank\">lunar-sun-5</a></strong> to <a href='https://wandb.ai/balabala76/huggingface' target=\"_blank\">Weights & Biases</a> (<a href='https://wandb.me/run' target=\"_blank\">docs</a>)<br/>"
          },
          "metadata": {}
        },
        {
          "output_type": "display_data",
          "data": {
            "text/plain": "<IPython.core.display.HTML object>",
            "text/html": " View project at <a href='https://wandb.ai/balabala76/huggingface' target=\"_blank\">https://wandb.ai/balabala76/huggingface</a>"
          },
          "metadata": {}
        },
        {
          "output_type": "display_data",
          "data": {
            "text/plain": "<IPython.core.display.HTML object>",
            "text/html": " View run at <a href='https://wandb.ai/balabala76/huggingface/runs/1897g0nf' target=\"_blank\">https://wandb.ai/balabala76/huggingface/runs/1897g0nf</a>"
          },
          "metadata": {}
        },
        {
          "output_type": "stream",
          "name": "stderr",
          "text": "/anaconda/envs/azureml_py38/lib/python3.8/site-packages/torch/nn/parallel/_functions.py:68: UserWarning: Was asked to gather along dimension 0, but all input tensors were scalars; will instead unsqueeze and return a vector.\n  warnings.warn('Was asked to gather along dimension 0, but all '\n"
        },
        {
          "output_type": "display_data",
          "data": {
            "text/plain": "<IPython.core.display.HTML object>",
            "text/html": "\n    <div>\n      \n      <progress value='10' max='10' style='width:300px; height:20px; vertical-align: middle;'></progress>\n      [10/10 41:54, Epoch 5/10]\n    </div>\n    <table border=\"1\" class=\"dataframe\">\n  <thead>\n <tr style=\"text-align: left;\">\n      <th>Epoch</th>\n      <th>Training Loss</th>\n      <th>Validation Loss</th>\n    </tr>\n  </thead>\n  <tbody>\n    <tr>\n      <td>0</td>\n      <td>1.369800</td>\n      <td>1.366599</td>\n    </tr>\n    <tr>\n      <td>1</td>\n      <td>1.334900</td>\n      <td>1.241878</td>\n    </tr>\n    <tr>\n      <td>2</td>\n      <td>1.233100</td>\n      <td>1.155038</td>\n    </tr>\n    <tr>\n      <td>3</td>\n      <td>1.163800</td>\n      <td>1.111018</td>\n    </tr>\n    <tr>\n      <td>4</td>\n      <td>1.150700</td>\n      <td>1.096687</td>\n    </tr>\n    <tr>\n      <td>5</td>\n      <td>1.149600</td>\n      <td>1.095525</td>\n    </tr>\n  </tbody>\n</table><p>"
          },
          "metadata": {}
        },
        {
          "output_type": "display_data",
          "data": {
            "text/plain": "  0%|          | 0/10 [00:00<?, ?it/s]",
            "application/vnd.jupyter.widget-view+json": {
              "version_major": 2,
              "version_minor": 0,
              "model_id": "a6fe3e6df7d44b5a89ea41c7aa249066"
            }
          },
          "metadata": {}
        },
        {
          "output_type": "stream",
          "name": "stderr",
          "text": "Checkpoint destination directory ./output/checkpoint-1 already exists and is non-empty. Saving will proceed but saved results may be invalid.\n\u001b[34m\u001b[1mwandb\u001b[0m: Adding directory to artifact (./output/checkpoint-1)... Done. 10.0s\n/anaconda/envs/azureml_py38/lib/python3.8/site-packages/torch/nn/parallel/_functions.py:68: UserWarning: Was asked to gather along dimension 0, but all input tensors were scalars; will instead unsqueeze and return a vector.\n  warnings.warn('Was asked to gather along dimension 0, but all '\n"
        },
        {
          "output_type": "display_data",
          "data": {
            "text/plain": "  0%|          | 0/10 [00:00<?, ?it/s]",
            "application/vnd.jupyter.widget-view+json": {
              "version_major": 2,
              "version_minor": 0,
              "model_id": "cba1157b78b04f6ba23a79477073fc89"
            }
          },
          "metadata": {}
        },
        {
          "output_type": "stream",
          "name": "stderr",
          "text": "Checkpoint destination directory ./output/checkpoint-3 already exists and is non-empty. Saving will proceed but saved results may be invalid.\n\u001b[34m\u001b[1mwandb\u001b[0m: Adding directory to artifact (./output/checkpoint-3)... Done. 13.4s\n/anaconda/envs/azureml_py38/lib/python3.8/site-packages/torch/nn/parallel/_functions.py:68: UserWarning: Was asked to gather along dimension 0, but all input tensors were scalars; will instead unsqueeze and return a vector.\n  warnings.warn('Was asked to gather along dimension 0, but all '\n"
        },
        {
          "output_type": "display_data",
          "data": {
            "text/plain": "  0%|          | 0/10 [00:00<?, ?it/s]",
            "application/vnd.jupyter.widget-view+json": {
              "version_major": 2,
              "version_minor": 0,
              "model_id": "b170dcdf65f345cf8e0d9265711edf85"
            }
          },
          "metadata": {}
        },
        {
          "output_type": "stream",
          "name": "stderr",
          "text": "\u001b[34m\u001b[1mwandb\u001b[0m: Adding directory to artifact (./output/checkpoint-5)... Done. 14.1s\n/anaconda/envs/azureml_py38/lib/python3.8/site-packages/torch/nn/parallel/_functions.py:68: UserWarning: Was asked to gather along dimension 0, but all input tensors were scalars; will instead unsqueeze and return a vector.\n  warnings.warn('Was asked to gather along dimension 0, but all '\n"
        },
        {
          "output_type": "display_data",
          "data": {
            "text/plain": "  0%|          | 0/10 [00:00<?, ?it/s]",
            "application/vnd.jupyter.widget-view+json": {
              "version_major": 2,
              "version_minor": 0,
              "model_id": "332d02811f884be5a995b70dc9ded935"
            }
          },
          "metadata": {}
        },
        {
          "output_type": "stream",
          "name": "stderr",
          "text": "\u001b[34m\u001b[1mwandb\u001b[0m: Adding directory to artifact (./output/checkpoint-7)... Done. 10.0s\n/anaconda/envs/azureml_py38/lib/python3.8/site-packages/torch/nn/parallel/_functions.py:68: UserWarning: Was asked to gather along dimension 0, but all input tensors were scalars; will instead unsqueeze and return a vector.\n  warnings.warn('Was asked to gather along dimension 0, but all '\n"
        },
        {
          "output_type": "display_data",
          "data": {
            "text/plain": "  0%|          | 0/10 [00:00<?, ?it/s]",
            "application/vnd.jupyter.widget-view+json": {
              "version_major": 2,
              "version_minor": 0,
              "model_id": "e3b67ca1ae9041dbadabe036cadbf7f2"
            }
          },
          "metadata": {}
        },
        {
          "output_type": "stream",
          "name": "stderr",
          "text": "Checkpoint destination directory ./output/checkpoint-9 already exists and is non-empty. Saving will proceed but saved results may be invalid.\n\u001b[34m\u001b[1mwandb\u001b[0m: Adding directory to artifact (./output/checkpoint-9)... Done. 12.7s\n/anaconda/envs/azureml_py38/lib/python3.8/site-packages/torch/nn/parallel/_functions.py:68: UserWarning: Was asked to gather along dimension 0, but all input tensors were scalars; will instead unsqueeze and return a vector.\n  warnings.warn('Was asked to gather along dimension 0, but all '\n"
        },
        {
          "output_type": "display_data",
          "data": {
            "text/plain": "  0%|          | 0/10 [00:00<?, ?it/s]",
            "application/vnd.jupyter.widget-view+json": {
              "version_major": 2,
              "version_minor": 0,
              "model_id": "63600dcfb8ab4764b02bf35f85b296e3"
            }
          },
          "metadata": {}
        },
        {
          "output_type": "stream",
          "name": "stderr",
          "text": "Checkpoint destination directory ./output/checkpoint-10 already exists and is non-empty. Saving will proceed but saved results may be invalid.\n\u001b[34m\u001b[1mwandb\u001b[0m: Adding directory to artifact (./output/checkpoint-10)... Done. 12.9s\n"
        },
        {
          "output_type": "display_data",
          "data": {
            "text/plain": "VBox(children=(Label(value='4886.299 MB of 4886.299 MB uploaded (13.622 MB deduped)\\r'), FloatProgress(value=1…",
            "application/vnd.jupyter.widget-view+json": {
              "version_major": 2,
              "version_minor": 0,
              "model_id": "77cddcd156304e2fbc105d2e86d5a059"
            }
          },
          "metadata": {}
        },
        {
          "output_type": "display_data",
          "data": {
            "text/plain": "<IPython.core.display.HTML object>",
            "text/html": "<style>\n    table.wandb td:nth-child(1) { padding: 0 10px; text-align: left ; width: auto;} td:nth-child(2) {text-align: left ; width: 100%}\n    .wandb-row { display: flex; flex-direction: row; flex-wrap: wrap; justify-content: flex-start; width: 100% }\n    .wandb-col { display: flex; flex-direction: column; flex-basis: 100%; flex: 1; padding: 10px; }\n    </style>\n<div class=\"wandb-row\"><div class=\"wandb-col\"><h3>Run history:</h3><br/><table class=\"wandb\"><tr><td>eval/loss</td><td>██▅▅▃▃▁▁▁▁▁▁</td></tr><tr><td>eval/runtime</td><td>▃▃▄▄██▄▄▆▆▁▁</td></tr><tr><td>eval/samples_per_second</td><td>▆▆▅▅▁▁▆▆▃▃██</td></tr><tr><td>eval/steps_per_second</td><td>██▅▅▁▁▅▅▅▅██</td></tr><tr><td>train/epoch</td><td>▁▁▁▁▂▂▃▃▃▃▃▃▄▄▄▄▅▅▆▆▆▆▆▆▇▇▇▇██████</td></tr><tr><td>train/global_step</td><td>▁▁▁▁▁▂▂▃▃▃▃▃▃▃▄▄▄▄▄▅▅▆▆▆▆▆▆▆▇▇▇▇▇███████</td></tr><tr><td>train/grad_norm</td><td>▆▆▄▄▆▆██▆▆▄▄▃▃▂▂▂▂▁▁</td></tr><tr><td>train/learning_rate</td><td>████▇▇▆▆▅▅▄▄▃▃▂▂▁▁▁▁</td></tr><tr><td>train/loss</td><td>████▇▇▅▅▄▄▂▂▂▂▁▁▁▁▁▁</td></tr><tr><td>train/total_flos</td><td>▁▁</td></tr><tr><td>train/train_loss</td><td>▁▁</td></tr><tr><td>train/train_runtime</td><td>▁▁</td></tr><tr><td>train/train_samples_per_second</td><td>▁▁</td></tr><tr><td>train/train_steps_per_second</td><td>▁▁</td></tr></table><br/></div><div class=\"wandb-col\"><h3>Run summary:</h3><br/><table class=\"wandb\"><tr><td>eval/loss</td><td>1.09552</td></tr><tr><td>eval/runtime</td><td>1.9262</td></tr><tr><td>eval/samples_per_second</td><td>1.038</td></tr><tr><td>eval/steps_per_second</td><td>0.519</td></tr><tr><td>train/epoch</td><td>5.52</td></tr><tr><td>train/global_step</td><td>10</td></tr><tr><td>train/grad_norm</td><td>5752.16113</td></tr><tr><td>train/learning_rate</td><td>0.0</td></tr><tr><td>train/loss</td><td>1.1496</td></tr><tr><td>train/total_flos</td><td>2.60399758835712e+16</td></tr><tr><td>train/train_loss</td><td>1.23752</td></tr><tr><td>train/train_runtime</td><td>2678.0988</td></tr><tr><td>train/train_samples_per_second</td><td>0.429</td></tr><tr><td>train/train_steps_per_second</td><td>0.004</td></tr></table><br/></div></div>"
          },
          "metadata": {}
        },
        {
          "output_type": "display_data",
          "data": {
            "text/plain": "<IPython.core.display.HTML object>",
            "text/html": " View run <strong style=\"color:#cdcd00\">lunar-sun-5</strong> at: <a href='https://wandb.ai/balabala76/huggingface/runs/1897g0nf' target=\"_blank\">https://wandb.ai/balabala76/huggingface/runs/1897g0nf</a><br/>Synced 6 W&B file(s), 6 media file(s), 98 artifact file(s) and 0 other file(s)"
          },
          "metadata": {}
        },
        {
          "output_type": "display_data",
          "data": {
            "text/plain": "<IPython.core.display.HTML object>",
            "text/html": "Find logs at: <code>./wandb/run-20240305_153921-1897g0nf/logs</code>"
          },
          "metadata": {}
        }
      ],
      "execution_count": 43,
      "metadata": {
        "id": "d5754789-2e15-4bc9-800c-01f8ffc625e8",
        "tags": [],
        "gather": {
          "logged": 1709655857237
        }
      },
      "id": "d5754789-2e15-4bc9-800c-01f8ffc625e8"
    },
    {
      "cell_type": "markdown",
      "source": [
        "Check out the sample generations in your W&B workspace. We've trained on a very small sample of dataset, so likely they won't be good. Try to improve this result! Train on a larger dataset, experiment with different hyperparameters and settings. Then share a W&B report with your results. Good luck!"
      ],
      "metadata": {
        "id": "69eb6dbe-5128-405c-aecc-5b2564930f55"
      },
      "id": "69eb6dbe-5128-405c-aecc-5b2564930f55"
    },
    {
      "cell_type": "code",
      "source": [],
      "outputs": [],
      "execution_count": null,
      "metadata": {
        "id": "95a414b0-5a05-40f4-98ac-25c9717a7b84"
      },
      "id": "95a414b0-5a05-40f4-98ac-25c9717a7b84"
    }
  ],
  "metadata": {
    "accelerator": "GPU",
    "colab": {
      "gpuType": "V100",
      "provenance": []
    },
    "kernelspec": {
      "name": "finetune",
      "language": "python",
      "display_name": "finetune"
    },
    "language_info": {
      "name": "python",
      "version": "3.8.5",
      "mimetype": "text/x-python",
      "codemirror_mode": {
        "name": "ipython",
        "version": 3
      },
      "pygments_lexer": "ipython3",
      "nbconvert_exporter": "python",
      "file_extension": ".py"
    },
    "microsoft": {
      "ms_spell_check": {
        "ms_spell_check_language": "en"
      }
    },
    "kernel_info": {
      "name": "finetune"
    },
    "nteract": {
      "version": "nteract-front-end@1.0.0"
    }
  },
  "nbformat": 4,
  "nbformat_minor": 5
}